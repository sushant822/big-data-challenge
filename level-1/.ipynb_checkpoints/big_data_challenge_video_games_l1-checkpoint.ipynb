{
 "cells": [
  {
   "cell_type": "markdown",
   "metadata": {
    "colab_type": "text",
    "id": "view-in-github"
   },
   "source": [
    "<a href=\"https://colab.research.google.com/github/sushant822/big-data-challenge/blob/main/level-1/big_data_challenge_video_games_l1.ipynb\" target=\"_parent\"><img src=\"https://colab.research.google.com/assets/colab-badge.svg\" alt=\"Open In Colab\"/></a>"
   ]
  },
  {
   "cell_type": "code",
   "execution_count": 1,
   "metadata": {
    "colab": {
     "base_uri": "https://localhost:8080/"
    },
    "id": "PtY5PdNBDKm9",
    "outputId": "1f1a7f08-a953-46e1-d651-c0815d328342"
   },
   "outputs": [
    {
     "name": "stdout",
     "output_type": "stream",
     "text": [
      "\r",
      "0% [Working]\r",
      "            \r",
      "Hit:1 http://ppa.launchpad.net/c2d4u.team/c2d4u4.0+/ubuntu bionic InRelease\n",
      "\r",
      "0% [Waiting for headers] [Connecting to security.ubuntu.com (91.189.91.38)] [Co\r",
      "                                                                               \r",
      "Hit:2 http://archive.ubuntu.com/ubuntu bionic InRelease\n",
      "\r",
      "                                                                               \r",
      "Hit:3 http://archive.ubuntu.com/ubuntu bionic-updates InRelease\n",
      "\r",
      "0% [Waiting for headers] [Connecting to security.ubuntu.com (91.189.91.38)] [Co\r",
      "0% [1 InRelease gpgv 15.9 kB] [Waiting for headers] [Connecting to security.ubu\r",
      "                                                                               \r",
      "Hit:4 http://ppa.launchpad.net/graphics-drivers/ppa/ubuntu bionic InRelease\n",
      "\r",
      "0% [1 InRelease gpgv 15.9 kB] [Waiting for headers] [Connecting to security.ubu\r",
      "                                                                               \r",
      "Hit:5 http://archive.ubuntu.com/ubuntu bionic-backports InRelease\n",
      "Hit:6 https://cloud.r-project.org/bin/linux/ubuntu bionic-cran40/ InRelease\n",
      "Hit:7 http://security.ubuntu.com/ubuntu bionic-security InRelease\n",
      "Ign:8 https://developer.download.nvidia.com/compute/cuda/repos/ubuntu1804/x86_64  InRelease\n",
      "Ign:9 https://developer.download.nvidia.com/compute/machine-learning/repos/ubuntu1804/x86_64  InRelease\n",
      "Hit:10 https://developer.download.nvidia.com/compute/cuda/repos/ubuntu1804/x86_64  Release\n",
      "Hit:11 https://developer.download.nvidia.com/compute/machine-learning/repos/ubuntu1804/x86_64  Release\n",
      "Reading package lists... Done\n"
     ]
    }
   ],
   "source": [
    "import os\n",
    "\n",
    "# Find the latest version of spark 2.0  from http://www-us.apache.org/dist/spark/ and enter as the spark version\n",
    "# For example:\n",
    "# spark_version = 'spark-2.4.7'\n",
    "spark_version = 'spark-2.4.7'\n",
    "os.environ['SPARK_VERSION']=spark_version\n",
    "\n",
    "# Install Spark and Java\n",
    "!apt-get update\n",
    "!apt-get install openjdk-8-jdk-headless -qq > /dev/null\n",
    "!wget -q http://www-us.apache.org/dist/spark/$SPARK_VERSION/$SPARK_VERSION-bin-hadoop2.7.tgz\n",
    "!tar xf $SPARK_VERSION-bin-hadoop2.7.tgz\n",
    "!pip install -q findspark\n",
    "\n",
    "# Set Environment Variables\n",
    "import os\n",
    "os.environ[\"JAVA_HOME\"] = \"/usr/lib/jvm/java-8-openjdk-amd64\"\n",
    "os.environ[\"SPARK_HOME\"] = f\"/content/{spark_version}-bin-hadoop2.7\"\n",
    "\n",
    "# Start a SparkSession\n",
    "import findspark\n",
    "findspark.init()"
   ]
  },
  {
   "cell_type": "code",
   "execution_count": 2,
   "metadata": {
    "colab": {
     "base_uri": "https://localhost:8080/"
    },
    "id": "28HvLRn71S1y",
    "outputId": "5edbdf52-ad69-431f-d027-978bc79c36b5"
   },
   "outputs": [
    {
     "name": "stdout",
     "output_type": "stream",
     "text": [
      "--2020-11-01 23:07:43--  https://jdbc.postgresql.org/download/postgresql-42.2.9.jar\n",
      "Resolving jdbc.postgresql.org (jdbc.postgresql.org)... 72.32.157.228, 2001:4800:3e1:1::228\n",
      "Connecting to jdbc.postgresql.org (jdbc.postgresql.org)|72.32.157.228|:443... connected.\n",
      "HTTP request sent, awaiting response... 200 OK\n",
      "Length: 914037 (893K) [application/java-archive]\n",
      "Saving to: ‘postgresql-42.2.9.jar.4’\n",
      "\n",
      "postgresql-42.2.9.j 100%[===================>] 892.61K  1.40MB/s    in 0.6s    \n",
      "\n",
      "2020-11-01 23:07:44 (1.40 MB/s) - ‘postgresql-42.2.9.jar.4’ saved [914037/914037]\n",
      "\n"
     ]
    }
   ],
   "source": [
    "!wget https://jdbc.postgresql.org/download/postgresql-42.2.9.jar"
   ]
  },
  {
   "cell_type": "code",
   "execution_count": 3,
   "metadata": {
    "id": "rDFC2haT6v_s"
   },
   "outputs": [],
   "source": [
    "from pyspark.sql import SparkSession\n",
    "spark = SparkSession.builder.appName(\"CloudETL\").config(\"spark.driver.extraClassPath\",\"/content/postgresql-42.2.9.jar\").getOrCreate()"
   ]
  },
  {
   "cell_type": "code",
   "execution_count": 4,
   "metadata": {
    "colab": {
     "base_uri": "https://localhost:8080/"
    },
    "id": "BTiNH9Md5qgL",
    "outputId": "9d216cba-dd0a-40b1-a0bc-15c50bdef2b4"
   },
   "outputs": [
    {
     "name": "stdout",
     "output_type": "stream",
     "text": [
      "+-----------+-----------+--------------+----------+--------------+--------------------+-------------------+-----------+-------------+-----------+----+-----------------+--------------------+--------------------+-------------------+\n",
      "|marketplace|customer_id|     review_id|product_id|product_parent|       product_title|   product_category|star_rating|helpful_votes|total_votes|vine|verified_purchase|     review_headline|         review_body|        review_date|\n",
      "+-----------+-----------+--------------+----------+--------------+--------------------+-------------------+-----------+-------------+-----------+----+-----------------+--------------------+--------------------+-------------------+\n",
      "|         US|   21269168| RSH1OZ87OYK92|B013PURRZW|     603406193|Madden NFL 16 - X...|Digital_Video_Games|          2|            2|          3|   N|                N|A slight improvem...|I keep buying mad...|2015-08-31 00:00:00|\n",
      "|         US|     133437|R1WFOQ3N9BO65I|B00F4CEHNK|     341969535| Xbox Live Gift Card|Digital_Video_Games|          5|            0|          0|   N|                Y|          Five Stars|             Awesome|2015-08-31 00:00:00|\n",
      "|         US|   45765011| R3YOOS71KM5M9|B00DNHLFQA|     951665344|Command & Conquer...|Digital_Video_Games|          5|            0|          0|   N|                Y|Hail to the great...|If you are preppi...|2015-08-31 00:00:00|\n",
      "|         US|     113118|R3R14UATT3OUFU|B004RMK5QG|     395682204|Playstation Plus ...|Digital_Video_Games|          5|            0|          0|   N|                Y|          Five Stars|             Perfect|2015-08-31 00:00:00|\n",
      "|         US|   22151364| RV2W9SGDNQA2C|B00G9BNLQE|     640460561|Saints Row IV - E...|Digital_Video_Games|          5|            0|          0|   N|                Y|          Five Stars|            Awesome!|2015-08-31 00:00:00|\n",
      "|         US|   22151364|R3CFKLIZ0I2KOB|B00IMIL498|     621922192|Double Dragon: Ne...|Digital_Video_Games|          5|            0|          0|   N|                Y|          Five Stars|            Awesome!|2015-08-31 00:00:00|\n",
      "|         US|   38426028|R1LRYU1V0T3O38|B00S00IJH8|     215163395|              Sims 4|Digital_Video_Games|          4|            0|          0|   N|                Y|i like the new sk...|i like the new sk...|2015-08-31 00:00:00|\n",
      "|         US|    6057518| R44QKV6FE5CJ2|B004RMK4BC|     384246568|Playstation Netwo...|Digital_Video_Games|          5|            0|          0|   N|                Y|          Five Stars|               Super|2015-08-31 00:00:00|\n",
      "|         US|   20715661|R2TX1KLPXXXNYS|B00K59HKIQ|     384246568|Playstation Netwo...|Digital_Video_Games|          5|            0|          0|   N|                Y|         Easy & Fast|Excellent, fast a...|2015-08-31 00:00:00|\n",
      "|         US|   26540306|R1JEEW4C6R89BA|B00K59HKIQ|     384246568|Playstation Netwo...|Digital_Video_Games|          5|            0|          0|   N|                Y|          Five Stars|                  Ok|2015-08-31 00:00:00|\n",
      "|         US|    8926809|R3B3UHK1FO0ERS|B004774IPU|     151985175|Sid Meier's Civil...|Digital_Video_Games|          1|            0|          0|   N|                N|I am still playin...|As has been writt...|2015-08-31 00:00:00|\n",
      "|         US|   31525534|R2GVSDHW513SS1|B002LIT9EC|     695277014|Build-a-lot 4: Po...|Digital_Video_Games|          5|            0|          0|   N|                Y|Probably the best...|Probably the best...|2015-08-31 00:00:00|\n",
      "|         US|   22151364|R1R1NT516PYT73|B008ALUBYQ|     112160022|       Borderlands 2|Digital_Video_Games|          5|            0|          0|   N|                Y|          Five Stars|            Awesome!|2015-08-31 00:00:00|\n",
      "|         US|   22977584|R3K624QDQKENN9|B010KYDNDG|     835376637|Minecraft for PC/...|Digital_Video_Games|          4|            0|          0|   N|                Y|                 FUN|COOL BUT IT LAGES...|2015-08-31 00:00:00|\n",
      "|         US|   45765011| R1FOXH7PCJX3V|B008ALUBYQ|     112160022|       Borderlands 2|Digital_Video_Games|          1|            0|          2|   N|                Y|            One Star|Lames purchase I ...|2015-08-31 00:00:00|\n",
      "|         US|    2239522| RA1246M1OMDWC|B004RMK4P8|     384246568|Playstation Netwo...|Digital_Video_Games|          5|            0|          0|   N|                Y|          Five Stars|               Great|2015-08-31 00:00:00|\n",
      "|         US|   48805811|R2I9SXWB0PAEKQ|B004RMK5QG|     395682204|Playstation Plus ...|Digital_Video_Games|          5|            0|          0|   N|                Y|          Five Stars|          Awesome!!!|2015-08-31 00:00:00|\n",
      "|         US|   18646481|R3UGL544NA0G9C|B00BI16Z22|     552981447|Brink of Consciou...|Digital_Video_Games|          4|            0|          0|   N|                Y|       worth playing|pretty good but n...|2015-08-31 00:00:00|\n",
      "|         US|   10310935|R1CBA4Y92GVAVM|B004VSTQ2A|     232803743|Xbox Live Subscri...|Digital_Video_Games|          5|            0|          0|   N|                Y|          Five Stars|What can I say......|2015-08-31 00:00:00|\n",
      "|         US|    5587610|R24NEKNR01VEHU|B00GAC1D2G|     384246568|Playstation Netwo...|Digital_Video_Games|          5|            0|          0|   N|                Y|        Just amazing|Very fast to rece...|2015-08-31 00:00:00|\n",
      "+-----------+-----------+--------------+----------+--------------+--------------------+-------------------+-----------+-------------+-----------+----+-----------------+--------------------+--------------------+-------------------+\n",
      "only showing top 20 rows\n",
      "\n"
     ]
    }
   ],
   "source": [
    "# Read in data from S3 Buckets\n",
    "from pyspark import SparkFiles\n",
    "url=\"https://classdb27oct2020.s3-us-west-1.amazonaws.com/amazon_reviews_us_Digital_Video_Games_v1_00.tsv\"\n",
    "spark.sparkContext.addFile(url)\n",
    "digital_video_games_df = spark.read.csv(SparkFiles.get(\"amazon_reviews_us_Digital_Video_Games_v1_00.tsv\"), \n",
    "                                        sep=\"\\t\", header=True, inferSchema=True)\n",
    "\n",
    "# Show DataFrame\n",
    "digital_video_games_df.show()"
   ]
  },
  {
   "cell_type": "code",
   "execution_count": 5,
   "metadata": {
    "colab": {
     "base_uri": "https://localhost:8080/"
    },
    "id": "qGLBTZtJv42n",
    "outputId": "e5379938-951b-4294-94bc-4a922513ed7f"
   },
   "outputs": [
    {
     "name": "stdout",
     "output_type": "stream",
     "text": [
      "Original count: 145431\n"
     ]
    }
   ],
   "source": [
    "print(f\"Original count: {digital_video_games_df.count()}\")"
   ]
  },
  {
   "cell_type": "code",
   "execution_count": 6,
   "metadata": {
    "colab": {
     "base_uri": "https://localhost:8080/"
    },
    "id": "8_J5HkcUxbj1",
    "outputId": "ad1ab3ee-a4ac-47d2-94aa-fc7c55bcb809"
   },
   "outputs": [
    {
     "name": "stdout",
     "output_type": "stream",
     "text": [
      "root\n",
      " |-- marketplace: string (nullable = true)\n",
      " |-- customer_id: integer (nullable = true)\n",
      " |-- review_id: string (nullable = true)\n",
      " |-- product_id: string (nullable = true)\n",
      " |-- product_parent: integer (nullable = true)\n",
      " |-- product_title: string (nullable = true)\n",
      " |-- product_category: string (nullable = true)\n",
      " |-- star_rating: integer (nullable = true)\n",
      " |-- helpful_votes: integer (nullable = true)\n",
      " |-- total_votes: integer (nullable = true)\n",
      " |-- vine: string (nullable = true)\n",
      " |-- verified_purchase: string (nullable = true)\n",
      " |-- review_headline: string (nullable = true)\n",
      " |-- review_body: string (nullable = true)\n",
      " |-- review_date: timestamp (nullable = true)\n",
      "\n"
     ]
    }
   ],
   "source": [
    "# Print schema\n",
    "digital_video_games_df.printSchema()"
   ]
  },
  {
   "cell_type": "code",
   "execution_count": 7,
   "metadata": {
    "colab": {
     "base_uri": "https://localhost:8080/"
    },
    "id": "2QvddDEUaBOH",
    "outputId": "15f628dc-93e0-45ee-8788-1ef866dadc0e"
   },
   "outputs": [
    {
     "name": "stdout",
     "output_type": "stream",
     "text": [
      "+--------------+-----------+----------+--------------+-----------+\n",
      "|     review_id|customer_id|product_id|product_parent|review_date|\n",
      "+--------------+-----------+----------+--------------+-----------+\n",
      "| RSH1OZ87OYK92|   21269168|B013PURRZW|     603406193| 2015-08-31|\n",
      "|R1WFOQ3N9BO65I|     133437|B00F4CEHNK|     341969535| 2015-08-31|\n",
      "| R3YOOS71KM5M9|   45765011|B00DNHLFQA|     951665344| 2015-08-31|\n",
      "|R3R14UATT3OUFU|     113118|B004RMK5QG|     395682204| 2015-08-31|\n",
      "| RV2W9SGDNQA2C|   22151364|B00G9BNLQE|     640460561| 2015-08-31|\n",
      "|R3CFKLIZ0I2KOB|   22151364|B00IMIL498|     621922192| 2015-08-31|\n",
      "|R1LRYU1V0T3O38|   38426028|B00S00IJH8|     215163395| 2015-08-31|\n",
      "| R44QKV6FE5CJ2|    6057518|B004RMK4BC|     384246568| 2015-08-31|\n",
      "|R2TX1KLPXXXNYS|   20715661|B00K59HKIQ|     384246568| 2015-08-31|\n",
      "|R1JEEW4C6R89BA|   26540306|B00K59HKIQ|     384246568| 2015-08-31|\n",
      "|R3B3UHK1FO0ERS|    8926809|B004774IPU|     151985175| 2015-08-31|\n",
      "|R2GVSDHW513SS1|   31525534|B002LIT9EC|     695277014| 2015-08-31|\n",
      "|R1R1NT516PYT73|   22151364|B008ALUBYQ|     112160022| 2015-08-31|\n",
      "|R3K624QDQKENN9|   22977584|B010KYDNDG|     835376637| 2015-08-31|\n",
      "| R1FOXH7PCJX3V|   45765011|B008ALUBYQ|     112160022| 2015-08-31|\n",
      "| RA1246M1OMDWC|    2239522|B004RMK4P8|     384246568| 2015-08-31|\n",
      "|R2I9SXWB0PAEKQ|   48805811|B004RMK5QG|     395682204| 2015-08-31|\n",
      "|R3UGL544NA0G9C|   18646481|B00BI16Z22|     552981447| 2015-08-31|\n",
      "|R1CBA4Y92GVAVM|   10310935|B004VSTQ2A|     232803743| 2015-08-31|\n",
      "|R24NEKNR01VEHU|    5587610|B00GAC1D2G|     384246568| 2015-08-31|\n",
      "+--------------+-----------+----------+--------------+-----------+\n",
      "only showing top 20 rows\n",
      "\n"
     ]
    }
   ],
   "source": [
    "from pyspark.sql.functions import to_date\n",
    "# Review DataFrame\n",
    "review_id_df = digital_video_games_df.select([\"review_id\", \"customer_id\", \"product_id\", \"product_parent\", \n",
    "                                              to_date(\"review_date\", 'yyyy-MM-dd').alias(\"review_date\")])\n",
    "review_id_df.show()"
   ]
  },
  {
   "cell_type": "code",
   "execution_count": 8,
   "metadata": {
    "id": "sFpYriizAg3M"
   },
   "outputs": [],
   "source": [
    "products_df = digital_video_games_df.select([\"product_id\", \"product_title\"]).drop_duplicates()"
   ]
  },
  {
   "cell_type": "code",
   "execution_count": 9,
   "metadata": {
    "colab": {
     "base_uri": "https://localhost:8080/"
    },
    "id": "laSVBlMbAjSX",
    "outputId": "fa950f5d-2690-4946-aa28-6124a6ec8b34"
   },
   "outputs": [
    {
     "name": "stdout",
     "output_type": "stream",
     "text": [
      "+--------------+--------------------+--------------------+\n",
      "|     review_id|     review_headline|         review_body|\n",
      "+--------------+--------------------+--------------------+\n",
      "| RSH1OZ87OYK92|A slight improvem...|I keep buying mad...|\n",
      "|R1WFOQ3N9BO65I|          Five Stars|             Awesome|\n",
      "| R3YOOS71KM5M9|Hail to the great...|If you are preppi...|\n",
      "|R3R14UATT3OUFU|          Five Stars|             Perfect|\n",
      "| RV2W9SGDNQA2C|          Five Stars|            Awesome!|\n",
      "|R3CFKLIZ0I2KOB|          Five Stars|            Awesome!|\n",
      "|R1LRYU1V0T3O38|i like the new sk...|i like the new sk...|\n",
      "| R44QKV6FE5CJ2|          Five Stars|               Super|\n",
      "|R2TX1KLPXXXNYS|         Easy & Fast|Excellent, fast a...|\n",
      "|R1JEEW4C6R89BA|          Five Stars|                  Ok|\n",
      "|R3B3UHK1FO0ERS|I am still playin...|As has been writt...|\n",
      "|R2GVSDHW513SS1|Probably the best...|Probably the best...|\n",
      "|R1R1NT516PYT73|          Five Stars|            Awesome!|\n",
      "|R3K624QDQKENN9|                 FUN|COOL BUT IT LAGES...|\n",
      "| R1FOXH7PCJX3V|            One Star|Lames purchase I ...|\n",
      "| RA1246M1OMDWC|          Five Stars|               Great|\n",
      "|R2I9SXWB0PAEKQ|          Five Stars|          Awesome!!!|\n",
      "|R3UGL544NA0G9C|       worth playing|pretty good but n...|\n",
      "|R1CBA4Y92GVAVM|          Five Stars|What can I say......|\n",
      "|R24NEKNR01VEHU|        Just amazing|Very fast to rece...|\n",
      "+--------------+--------------------+--------------------+\n",
      "only showing top 20 rows\n",
      "\n"
     ]
    }
   ],
   "source": [
    "reviews_df = digital_video_games_df.select([\"review_id\", \"review_headline\", \"review_body\"])\n",
    "reviews_df.show()"
   ]
  },
  {
   "cell_type": "code",
   "execution_count": 10,
   "metadata": {
    "colab": {
     "base_uri": "https://localhost:8080/"
    },
    "id": "-EGCV4KGAu6T",
    "outputId": "1200ed0a-6249-4ab2-ca7b-1752428c4ed0"
   },
   "outputs": [
    {
     "name": "stdout",
     "output_type": "stream",
     "text": [
      "+-----------+--------------+\n",
      "|customer_id|customer_count|\n",
      "+-----------+--------------+\n",
      "|   26079415|             1|\n",
      "|   12521601|             2|\n",
      "|    4593696|             1|\n",
      "|    1468259|             1|\n",
      "|   38173350|             1|\n",
      "|    3953141|             2|\n",
      "|   20598424|             1|\n",
      "|   46625306|             1|\n",
      "|   47160828|             2|\n",
      "|    1337034|             1|\n",
      "|   14231016|             1|\n",
      "|   49785748|             1|\n",
      "|     712525|             1|\n",
      "|   35339694|             1|\n",
      "|    8211293|             1|\n",
      "|   41832251|             1|\n",
      "|    9037272|             1|\n",
      "|   52036002|             1|\n",
      "|   49514578|             1|\n",
      "|   22875949|             1|\n",
      "+-----------+--------------+\n",
      "only showing top 20 rows\n",
      "\n"
     ]
    }
   ],
   "source": [
    "customers_df = digital_video_games_df.groupby(\"customer_id\").agg({\"customer_id\": \"count\"}).withColumnRenamed(\"count(customer_id)\", \"customer_count\")\n",
    "customers_df.show()"
   ]
  },
  {
   "cell_type": "code",
   "execution_count": 11,
   "metadata": {
    "colab": {
     "base_uri": "https://localhost:8080/"
    },
    "id": "7tm9SDptBXHg",
    "outputId": "d5d81b57-8a9b-4c8e-c47b-323b95a121b0"
   },
   "outputs": [
    {
     "name": "stdout",
     "output_type": "stream",
     "text": [
      "+--------------+-----------+-------------+-----------+----+\n",
      "|     review_id|star_rating|helpful_votes|total_votes|vine|\n",
      "+--------------+-----------+-------------+-----------+----+\n",
      "| RSH1OZ87OYK92|          2|            2|          3|   N|\n",
      "|R1WFOQ3N9BO65I|          5|            0|          0|   N|\n",
      "| R3YOOS71KM5M9|          5|            0|          0|   N|\n",
      "|R3R14UATT3OUFU|          5|            0|          0|   N|\n",
      "| RV2W9SGDNQA2C|          5|            0|          0|   N|\n",
      "|R3CFKLIZ0I2KOB|          5|            0|          0|   N|\n",
      "|R1LRYU1V0T3O38|          4|            0|          0|   N|\n",
      "| R44QKV6FE5CJ2|          5|            0|          0|   N|\n",
      "|R2TX1KLPXXXNYS|          5|            0|          0|   N|\n",
      "|R1JEEW4C6R89BA|          5|            0|          0|   N|\n",
      "|R3B3UHK1FO0ERS|          1|            0|          0|   N|\n",
      "|R2GVSDHW513SS1|          5|            0|          0|   N|\n",
      "|R1R1NT516PYT73|          5|            0|          0|   N|\n",
      "|R3K624QDQKENN9|          4|            0|          0|   N|\n",
      "| R1FOXH7PCJX3V|          1|            0|          2|   N|\n",
      "| RA1246M1OMDWC|          5|            0|          0|   N|\n",
      "|R2I9SXWB0PAEKQ|          5|            0|          0|   N|\n",
      "|R3UGL544NA0G9C|          4|            0|          0|   N|\n",
      "|R1CBA4Y92GVAVM|          5|            0|          0|   N|\n",
      "|R24NEKNR01VEHU|          5|            0|          0|   N|\n",
      "+--------------+-----------+-------------+-----------+----+\n",
      "only showing top 20 rows\n",
      "\n"
     ]
    }
   ],
   "source": [
    "vine_df = digital_video_games_df.select([\"review_id\", \"star_rating\", \"helpful_votes\", \"total_votes\", \"vine\"])\n",
    "vine_df.show()"
   ]
  },
  {
   "cell_type": "markdown",
   "metadata": {
    "id": "aLFKV9tNBmQ7"
   },
   "source": [
    "**Saving data to AWS-RDS Database**"
   ]
  },
  {
   "cell_type": "code",
   "execution_count": 12,
   "metadata": {
    "id": "Fu0LjzcIBu61"
   },
   "outputs": [],
   "source": [
    "mode = \"append\"\n",
    "jdbc_url=\"jdbc:postgresql://mypostgresdb.ct26r4oxbudr.us-west-1.rds.amazonaws.com:5432/assignment_big_data\"\n",
    "config = {\"user\":\"********\", \"password\": \"********\", \"driver\":\"org.postgresql.Driver\"}"
   ]
  },
  {
   "cell_type": "code",
   "execution_count": 13,
   "metadata": {
    "id": "16YAF2IoCMBp"
   },
   "outputs": [],
   "source": [
    "review_id_df.write.jdbc(url=jdbc_url, table='video_games_review', mode=mode, properties=config)"
   ]
  },
  {
   "cell_type": "code",
   "execution_count": 14,
   "metadata": {
    "id": "S5f5pjFKEBoD"
   },
   "outputs": [],
   "source": [
    "products_df.write.jdbc(url=jdbc_url, table='video_games_products', mode=mode, properties=config)"
   ]
  },
  {
   "cell_type": "code",
   "execution_count": 15,
   "metadata": {
    "id": "C5pA8sweFkGl"
   },
   "outputs": [],
   "source": [
    "customers_df.write.jdbc(url=jdbc_url, table='video_games_customers', mode=mode, properties=config)"
   ]
  },
  {
   "cell_type": "code",
   "execution_count": 16,
   "metadata": {
    "id": "5Ut4XuvoGdjK"
   },
   "outputs": [],
   "source": [
    "vine_df.write.jdbc(url=jdbc_url, table='video_games_vines', mode=mode, properties=config)"
   ]
  }
 ],
 "metadata": {
  "colab": {
   "authorship_tag": "ABX9TyMMv2i4LnIgjvhdUrTxkXm8",
   "include_colab_link": true,
   "name": "big-data-challenge-video_games-l1.ipynb",
   "provenance": []
  },
  "kernelspec": {
   "display_name": "Python 3",
   "language": "python",
   "name": "python3"
  },
  "language_info": {
   "codemirror_mode": {
    "name": "ipython",
    "version": 3
   },
   "file_extension": ".py",
   "mimetype": "text/x-python",
   "name": "python",
   "nbconvert_exporter": "python",
   "pygments_lexer": "ipython3",
   "version": "3.7.6"
  }
 },
 "nbformat": 4,
 "nbformat_minor": 1
}
