{
 "cells": [
  {
   "cell_type": "markdown",
   "metadata": {
    "colab_type": "text",
    "id": "view-in-github"
   },
   "source": [
    "<a href=\"https://colab.research.google.com/github/sushant822/big-data-challenge/blob/main/level-2/big_data_challenge_software_l2.ipynb\" target=\"_parent\"><img src=\"https://colab.research.google.com/assets/colab-badge.svg\" alt=\"Open In Colab\"/></a>"
   ]
  },
  {
   "cell_type": "code",
   "execution_count": 1,
   "metadata": {
    "colab": {
     "base_uri": "https://localhost:8080/"
    },
    "id": "fbnOEfrFKwuk",
    "outputId": "b6edba8e-5af6-4c64-cc71-1002c1297853"
   },
   "outputs": [
    {
     "name": "stdout",
     "output_type": "stream",
     "text": [
      "\r",
      "0% [Working]\r",
      "            \r",
      "Get:1 http://security.ubuntu.com/ubuntu bionic-security InRelease [88.7 kB]\n",
      "\r",
      "0% [Connecting to archive.ubuntu.com (91.189.88.142)] [1 InRelease 2,589 B/88.7\r",
      "                                                                               \r",
      "Ign:2 https://developer.download.nvidia.com/compute/cuda/repos/ubuntu1804/x86_64  InRelease\n",
      "\r",
      "0% [Waiting for headers] [1 InRelease 69.2 kB/88.7 kB 78%] [Waiting for headers\r",
      "0% [Waiting for headers] [Waiting for headers] [Waiting for headers] [Waiting f\r",
      "                                                                               \r",
      "Get:3 https://cloud.r-project.org/bin/linux/ubuntu bionic-cran40/ InRelease [3,626 B]\n",
      "\r",
      "                                                                               \r",
      "0% [Waiting for headers] [Waiting for headers] [Waiting for headers]\r",
      "0% [1 InRelease gpgv 88.7 kB] [Waiting for headers] [Waiting for headers] [Wait\r",
      "                                                                               \r",
      "Hit:4 http://archive.ubuntu.com/ubuntu bionic InRelease\n",
      "\r",
      "0% [1 InRelease gpgv 88.7 kB] [Waiting for headers] [Waiting for headers] [Wait\r",
      "                                                                               \r",
      "Get:5 http://ppa.launchpad.net/c2d4u.team/c2d4u4.0+/ubuntu bionic InRelease [15.9 kB]\n",
      "Ign:6 https://developer.download.nvidia.com/compute/machine-learning/repos/ubuntu1804/x86_64  InRelease\n",
      "Get:7 https://developer.download.nvidia.com/compute/cuda/repos/ubuntu1804/x86_64  Release [697 B]\n",
      "Hit:8 https://developer.download.nvidia.com/compute/machine-learning/repos/ubuntu1804/x86_64  Release\n",
      "Get:9 https://developer.download.nvidia.com/compute/cuda/repos/ubuntu1804/x86_64  Release.gpg [836 B]\n",
      "Get:10 http://archive.ubuntu.com/ubuntu bionic-updates InRelease [88.7 kB]\n",
      "Hit:11 http://ppa.launchpad.net/graphics-drivers/ppa/ubuntu bionic InRelease\n",
      "Get:12 http://security.ubuntu.com/ubuntu bionic-security/universe amd64 Packages [1,353 kB]\n",
      "Get:13 http://archive.ubuntu.com/ubuntu bionic-backports InRelease [74.6 kB]\n",
      "Get:14 http://security.ubuntu.com/ubuntu bionic-security/main amd64 Packages [1,748 kB]\n",
      "Get:15 https://cloud.r-project.org/bin/linux/ubuntu bionic-cran40/ Packages [40.1 kB]\n",
      "Ign:17 https://developer.download.nvidia.com/compute/cuda/repos/ubuntu1804/x86_64  Packages\n",
      "Get:17 https://developer.download.nvidia.com/compute/cuda/repos/ubuntu1804/x86_64  Packages [405 kB]\n",
      "Get:18 http://ppa.launchpad.net/c2d4u.team/c2d4u4.0+/ubuntu bionic/main Sources [1,687 kB]\n",
      "Get:19 http://archive.ubuntu.com/ubuntu bionic-updates/main amd64 Packages [2,165 kB]\n",
      "Get:20 http://archive.ubuntu.com/ubuntu bionic-updates/universe amd64 Packages [2,118 kB]\n",
      "Get:21 http://ppa.launchpad.net/c2d4u.team/c2d4u4.0+/ubuntu bionic/main amd64 Packages [863 kB]\n",
      "Fetched 10.7 MB in 3s (3,413 kB/s)\n",
      "Reading package lists... Done\n"
     ]
    }
   ],
   "source": [
    "import os\n",
    "\n",
    "# Find the latest version of spark 2.0  from http://www-us.apache.org/dist/spark/ and enter as the spark version\n",
    "# For example:\n",
    "# spark_version = 'spark-2.4.7'\n",
    "spark_version = 'spark-2.4.7'\n",
    "os.environ['SPARK_VERSION']=spark_version\n",
    "\n",
    "# Install Spark and Java\n",
    "!apt-get update\n",
    "!apt-get install openjdk-8-jdk-headless -qq > /dev/null\n",
    "!wget -q http://www-us.apache.org/dist/spark/$SPARK_VERSION/$SPARK_VERSION-bin-hadoop2.7.tgz\n",
    "!tar xf $SPARK_VERSION-bin-hadoop2.7.tgz\n",
    "!pip install -q findspark\n",
    "\n",
    "# Set Environment Variables\n",
    "import os\n",
    "os.environ[\"JAVA_HOME\"] = \"/usr/lib/jvm/java-8-openjdk-amd64\"\n",
    "os.environ[\"SPARK_HOME\"] = f\"/content/{spark_version}-bin-hadoop2.7\"\n",
    "\n",
    "# Start a SparkSession\n",
    "import findspark\n",
    "findspark.init()"
   ]
  },
  {
   "cell_type": "code",
   "execution_count": 2,
   "metadata": {
    "id": "wcZ2hd30K6ji"
   },
   "outputs": [],
   "source": [
    "from pyspark.sql import SparkSession\n",
    "spark = SparkSession.builder.appName(\"CloudETL\").config(\"spark.driver.extraClassPath\",\"/content/postgresql-42.2.9.jar\").getOrCreate()"
   ]
  },
  {
   "cell_type": "code",
   "execution_count": 3,
   "metadata": {
    "colab": {
     "base_uri": "https://localhost:8080/"
    },
    "id": "XKWPvXf-K8f0",
    "outputId": "4ee95ad9-3794-4ba6-fe15-b00593e755a9"
   },
   "outputs": [
    {
     "name": "stdout",
     "output_type": "stream",
     "text": [
      "+-----------+-----------+--------------+----------+--------------+--------------------+----------------+-----------+-------------+-----------+----+-----------------+--------------------+--------------------+-------------------+\n",
      "|marketplace|customer_id|     review_id|product_id|product_parent|       product_title|product_category|star_rating|helpful_votes|total_votes|vine|verified_purchase|     review_headline|         review_body|        review_date|\n",
      "+-----------+-----------+--------------+----------+--------------+--------------------+----------------+-----------+-------------+-----------+----+-----------------+--------------------+--------------------+-------------------+\n",
      "|         US|   17747349|R2EI7QLPK4LF7U|B00U7LCE6A|     106182406|CCleaner Free [Do...|Digital_Software|          4|            0|          0|   N|                Y|          Four Stars|      So far so good|2015-08-31 00:00:00|\n",
      "|         US|   10956619|R1W5OMFK1Q3I3O|B00HRJMOM4|     162269768|ResumeMaker Profe...|Digital_Software|          3|            0|          0|   N|                Y|         Three Stars|Needs a little mo...|2015-08-31 00:00:00|\n",
      "|         US|   13132245| RPZWSYWRP92GI|B00P31G9PQ|     831433899|Amazon Drive Desk...|Digital_Software|          1|            1|          2|   N|                Y|            One Star|      Please cancel.|2015-08-31 00:00:00|\n",
      "|         US|   35717248|R2WQWM04XHD9US|B00FGDEPDY|     991059534|Norton Internet S...|Digital_Software|          5|            0|          0|   N|                Y|  Works as Expected!|  Works as Expected!|2015-08-31 00:00:00|\n",
      "|         US|   17710652|R1WSPK2RA2PDEF|B00FZ0FK0U|     574904556|SecureAnywhere In...|Digital_Software|          4|            1|          2|   N|                Y|Great antivirus. ...|I've had Webroot ...|2015-08-31 00:00:00|\n",
      "|         US|   42392705|R11JVGRZRHTDAS|B004KPKSRQ|     306022575|Pc Matic Performa...|Digital_Software|          5|            4|          4|   N|                N|Great choice in s...|EXCELLENT softwar...|2015-08-31 00:00:00|\n",
      "|         US|   52845868|R2B8468OKXXYE2|B00B1TFNTW|      54873662|Microsoft OneNote...|Digital_Software|          1|            1|          1|   N|                N|Munch, munch, mun...|The variations cr...|2015-08-31 00:00:00|\n",
      "|         US|   15696503|R2HGGCCZSSNUCB|B00M9GTJLY|     103182180|Intuit Quicken Re...|Digital_Software|          1|            0|          0|   N|                Y|Horrible! Would n...|Horrible!  Would ...|2015-08-31 00:00:00|\n",
      "|         US|    9723928| REEE4LHSVPRV9|B00H9A60O4|     608720080|Avast Free Antivi...|Digital_Software|          1|            0|          0|   N|                Y|            One Star|     Waste of time .|2015-08-31 00:00:00|\n",
      "|         US|   23522877|R25OMUUILFFHI9|B008XAXAC4|      87969525|Apache OpenOffice...|Digital_Software|          5|            0|          0|   N|                Y|Very good suite o...|Work as easy as o...|2015-08-31 00:00:00|\n",
      "|         US|   17022093|R2966PB8UBD5BM|B00MHZ6Z64|     249773946|     Norton Security|Digital_Software|          5|            0|          0|   N|                Y|          Five Stars|    Works perfectly!|2015-08-31 00:00:00|\n",
      "|         US|   11635690|R1OU91L2G5H6H1|B00OPCQ70Q|     956532818|Corel Painter Ess...|Digital_Software|          1|            0|          2|   N|                Y|            One Star|Will not open on ...|2015-08-31 00:00:00|\n",
      "|         US|   50349059|R3M6YQVMXWGTR6|B00MHZ71G2|       8655796|Norton Security w...|Digital_Software|          5|            0|          0|   N|                Y|Purchased this on...|Purchased this on...|2015-08-31 00:00:00|\n",
      "|         US|     450121|R2M8VZGO4BFN9J|B00O8J0W6G|       7338419|Movavi Screen Cap...|Digital_Software|          1|            0|          1|   N|                Y|            One Star|God awful and did...|2015-08-31 00:00:00|\n",
      "|         US|    2320642|R3UH0MJKIJ4VLP|B00NMPZCH6|     985055699|Photoshop Element...|Digital_Software|          3|            2|          3|   N|                Y|         Three Stars|I think its compl...|2015-08-31 00:00:00|\n",
      "|         US|   16089737|R3E906WYGZVKWO|B012P5SJNC|     490456974|LearnSmart for Th...|Digital_Software|          1|            2|          2|   N|                Y|Will not work for...|You can purchase ...|2015-08-31 00:00:00|\n",
      "|         US|   14082044|R1Z3N8UA5YQOV2|B00V9ZPIXY|      57097904|Fotor for Windows...|Digital_Software|          2|            0|          0|   N|                Y|           Two Stars|    it wont download|2015-08-31 00:00:00|\n",
      "|         US|   18246272|R2VH10XSOR1QHF|B00LU2XHAC|     962800663|Kaspersky Anti-Vi...|Digital_Software|          5|            0|          0|   N|                Y|          Five Stars|I have been using...|2015-08-31 00:00:00|\n",
      "|         US|   31837971|R1KCPJ8UASZESF|B0068TJOSQ|     154476766|H&R Block At Home...|Digital_Software|          5|            0|          0|   N|                Y|This was a Great ...|This was a Great ...|2015-08-31 00:00:00|\n",
      "|         US|   12631500| RWTF87EKV4DYO|B00SGYWM80|     780881648| onlineTV [Download]|Digital_Software|          3|            0|          0|   N|                Y|         Three Stars|did not use,inter...|2015-08-31 00:00:00|\n",
      "+-----------+-----------+--------------+----------+--------------+--------------------+----------------+-----------+-------------+-----------+----+-----------------+--------------------+--------------------+-------------------+\n",
      "only showing top 20 rows\n",
      "\n"
     ]
    }
   ],
   "source": [
    "# Read in data from S3 Buckets\n",
    "from pyspark import SparkFiles\n",
    "url=\"https://classdb27oct2020.s3-us-west-1.amazonaws.com/amazon_reviews_us_Digital_Software_v1_00.tsv\"\n",
    "spark.sparkContext.addFile(url)\n",
    "digital_software_df = spark.read.csv(SparkFiles.get(\"amazon_reviews_us_Digital_Software_v1_00.tsv\"), \n",
    "                                        sep=\"\\t\", header=True, inferSchema=True)\n",
    "\n",
    "# Show DataFrame\n",
    "digital_software_df.show()"
   ]
  },
  {
   "cell_type": "code",
   "execution_count": 4,
   "metadata": {
    "colab": {
     "base_uri": "https://localhost:8080/"
    },
    "id": "g8vf1aBJK_KK",
    "outputId": "0c35e9f0-0527-44a9-f6b5-8b4eb8712cbf"
   },
   "outputs": [
    {
     "name": "stdout",
     "output_type": "stream",
     "text": [
      "+-----------+-------------+-----------+----+-----------------+\n",
      "|star_rating|helpful_votes|total_votes|vine|verified_purchase|\n",
      "+-----------+-------------+-----------+----+-----------------+\n",
      "|          4|            0|          0|   N|                Y|\n",
      "|          3|            0|          0|   N|                Y|\n",
      "|          1|            1|          2|   N|                Y|\n",
      "|          5|            0|          0|   N|                Y|\n",
      "|          4|            1|          2|   N|                Y|\n",
      "|          5|            4|          4|   N|                N|\n",
      "|          1|            1|          1|   N|                N|\n",
      "|          1|            0|          0|   N|                Y|\n",
      "|          1|            0|          0|   N|                Y|\n",
      "|          5|            0|          0|   N|                Y|\n",
      "|          5|            0|          0|   N|                Y|\n",
      "|          1|            0|          2|   N|                Y|\n",
      "|          5|            0|          0|   N|                Y|\n",
      "|          1|            0|          1|   N|                Y|\n",
      "|          3|            2|          3|   N|                Y|\n",
      "|          1|            2|          2|   N|                Y|\n",
      "|          2|            0|          0|   N|                Y|\n",
      "|          5|            0|          0|   N|                Y|\n",
      "|          5|            0|          0|   N|                Y|\n",
      "|          3|            0|          0|   N|                Y|\n",
      "+-----------+-------------+-----------+----+-----------------+\n",
      "only showing top 20 rows\n",
      "\n"
     ]
    }
   ],
   "source": [
    "selected_df = digital_software_df.select([\"star_rating\", \"helpful_votes\", \"total_votes\", \"vine\", \"verified_purchase\"])\n",
    "selected_df.show()"
   ]
  },
  {
   "cell_type": "code",
   "execution_count": 5,
   "metadata": {
    "id": "38ZP92ofLF0P"
   },
   "outputs": [],
   "source": [
    "selected_df_votes = selected_df.filter(selected_df[\"total_votes\"] >= 10)\n",
    "selected_df_votes_filter = selected_df_votes.filter(selected_df_votes[\"helpful_votes\"]/selected_df_votes[\"total_votes\"] >= 0.5)"
   ]
  },
  {
   "cell_type": "code",
   "execution_count": 6,
   "metadata": {
    "colab": {
     "base_uri": "https://localhost:8080/"
    },
    "id": "_I3kV78xLHqu",
    "outputId": "5278785a-98e0-4e52-eed6-6b9a09730090"
   },
   "outputs": [
    {
     "name": "stdout",
     "output_type": "stream",
     "text": [
      "+-------+------------------+-----------------+-----------------+----+-----------------+\n",
      "|summary|       star_rating|    helpful_votes|      total_votes|vine|verified_purchase|\n",
      "+-------+------------------+-----------------+-----------------+----+-----------------+\n",
      "|  count|              2313|             2313|             2313|2313|             2313|\n",
      "|   mean|2.2970168612191957|32.44790315607436| 35.5767401642888|null|             null|\n",
      "| stddev|1.6355889250163034|71.29331674325158|74.17389505669087|null|             null|\n",
      "|    min|                 1|                5|               10|   N|                Y|\n",
      "|    max|                 5|             1276|             1317|   N|                Y|\n",
      "+-------+------------------+-----------------+-----------------+----+-----------------+\n",
      "\n",
      "+-------+------------------+------------------+------------------+----+-----------------+\n",
      "|summary|       star_rating|     helpful_votes|       total_votes|vine|verified_purchase|\n",
      "+-------+------------------+------------------+------------------+----+-----------------+\n",
      "|  count|              2413|              2413|              2413|2413|             2413|\n",
      "|   mean|1.6999585578118526|42.566514711976794|46.494405304600086|null|             null|\n",
      "| stddev|1.3696500012691895| 162.1046978775101|167.06308722693413|null|             null|\n",
      "|    min|                 1|                 5|                10|   N|                N|\n",
      "|    max|                 5|              5363|              5465|   N|                N|\n",
      "+-------+------------------+------------------+------------------+----+-----------------+\n",
      "\n"
     ]
    }
   ],
   "source": [
    "from pyspark.sql.functions import col, avg\n",
    "verified_purchase_yes = selected_df_votes_filter.filter(selected_df_votes_filter['verified_purchase'] == 'Y')\n",
    "verified_purchase_no = selected_df_votes_filter.filter(selected_df_votes_filter['verified_purchase'] == 'N')\n",
    "\n",
    "verified_purchase_yes.describe().show()\n",
    "verified_purchase_no.describe().show()"
   ]
  },
  {
   "cell_type": "code",
   "execution_count": 7,
   "metadata": {
    "colab": {
     "base_uri": "https://localhost:8080/"
    },
    "id": "sFHJOU8KLKEk",
    "outputId": "bdfc9edd-6db5-4a35-97ba-45ef66b883f2"
   },
   "outputs": [
    {
     "name": "stdout",
     "output_type": "stream",
     "text": [
      "Total number of ratings (4 or greater): 2313\n",
      "Total number of verified purchases: 666\n",
      "Percentage: 28.79%\n"
     ]
    }
   ],
   "source": [
    "ratings_4_v = verified_purchase_yes[verified_purchase_yes['star_rating'] >= 4].count()\n",
    "ratings_4_v_count = verified_purchase_yes.count()\n",
    "ratings_v_percentage = round((float(ratings_4_v) / float(ratings_4_v_count))*100, 2)\n",
    "print(f'Total number of ratings (4 or greater): {ratings_4_v_count}')\n",
    "print(f'Total number of verified purchases: {ratings_4_v}')\n",
    "print(f'Percentage: {ratings_v_percentage}%')"
   ]
  },
  {
   "cell_type": "code",
   "execution_count": 8,
   "metadata": {
    "colab": {
     "base_uri": "https://localhost:8080/"
    },
    "id": "fOPGZkcKLKkh",
    "outputId": "d6c2bdad-11da-4a2b-da8d-195f38a2216f"
   },
   "outputs": [
    {
     "name": "stdout",
     "output_type": "stream",
     "text": [
      "Total number of ratings (4 or greater): 2413\n",
      "Total number of non-verified purchases: 373\n",
      "Percentage: 15.46%\n"
     ]
    }
   ],
   "source": [
    "ratings_4_nv = verified_purchase_no[verified_purchase_no['star_rating'] >= 4].count()\n",
    "ratings_4_nv_count = verified_purchase_no.count()\n",
    "ratings_nv_percentage = round((float(ratings_4_nv) / float(ratings_4_nv_count))*100, 2)\n",
    "print(f'Total number of ratings (4 or greater): {ratings_4_nv_count}')\n",
    "print(f'Total number of non-verified purchases: {ratings_4_nv}')\n",
    "print(f'Percentage: {ratings_nv_percentage}%')"
   ]
  }
 ],
 "metadata": {
  "colab": {
   "authorship_tag": "ABX9TyOYPmVQ9Q19feK67+AByfx5",
   "include_colab_link": true,
   "name": "big-data-challenge-software-l2.ipynb",
   "provenance": []
  },
  "kernelspec": {
   "display_name": "Python 3",
   "language": "python",
   "name": "python3"
  },
  "language_info": {
   "codemirror_mode": {
    "name": "ipython",
    "version": 3
   },
   "file_extension": ".py",
   "mimetype": "text/x-python",
   "name": "python",
   "nbconvert_exporter": "python",
   "pygments_lexer": "ipython3",
   "version": "3.7.6"
  }
 },
 "nbformat": 4,
 "nbformat_minor": 1
}
