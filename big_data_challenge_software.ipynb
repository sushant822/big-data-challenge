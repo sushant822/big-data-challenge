{
  "nbformat": 4,
  "nbformat_minor": 0,
  "metadata": {
    "colab": {
      "name": "big-data-challenge-software.ipynb",
      "provenance": [],
      "authorship_tag": "ABX9TyNFUAP0CM3wf43g+4qaAx3T",
      "include_colab_link": true
    },
    "kernelspec": {
      "name": "python3",
      "display_name": "Python 3"
    }
  },
  "cells": [
    {
      "cell_type": "markdown",
      "metadata": {
        "id": "view-in-github",
        "colab_type": "text"
      },
      "source": [
        "<a href=\"https://colab.research.google.com/github/sushant822/big-data-challenge/blob/main/big_data_challenge_software.ipynb\" target=\"_parent\"><img src=\"https://colab.research.google.com/assets/colab-badge.svg\" alt=\"Open In Colab\"/></a>"
      ]
    },
    {
      "cell_type": "code",
      "metadata": {
        "id": "Pbvl0tGYZka7",
        "outputId": "376ac83b-f795-4c05-a9db-b27fc465b427",
        "colab": {
          "base_uri": "https://localhost:8080/"
        }
      },
      "source": [
        "import os\n",
        "\n",
        "# Find the latest version of spark 2.0  from http://www-us.apache.org/dist/spark/ and enter as the spark version\n",
        "# For example:\n",
        "# spark_version = 'spark-2.4.7'\n",
        "spark_version = 'spark-2.4.7'\n",
        "os.environ['SPARK_VERSION']=spark_version\n",
        "\n",
        "# Install Spark and Java\n",
        "!apt-get update\n",
        "!apt-get install openjdk-8-jdk-headless -qq > /dev/null\n",
        "!wget -q http://www-us.apache.org/dist/spark/$SPARK_VERSION/$SPARK_VERSION-bin-hadoop2.7.tgz\n",
        "!tar xf $SPARK_VERSION-bin-hadoop2.7.tgz\n",
        "!pip install -q findspark\n",
        "\n",
        "# Set Environment Variables\n",
        "import os\n",
        "os.environ[\"JAVA_HOME\"] = \"/usr/lib/jvm/java-8-openjdk-amd64\"\n",
        "os.environ[\"SPARK_HOME\"] = f\"/content/{spark_version}-bin-hadoop2.7\"\n",
        "\n",
        "# Start a SparkSession\n",
        "import findspark\n",
        "findspark.init()"
      ],
      "execution_count": 1,
      "outputs": [
        {
          "output_type": "stream",
          "text": [
            "\r0% [Working]\r            \rGet:1 http://security.ubuntu.com/ubuntu bionic-security InRelease [88.7 kB]\n",
            "\r0% [Connecting to archive.ubuntu.com (91.189.88.142)] [1 InRelease 2,586 B/88.7\r0% [Waiting for headers] [Waiting for headers] [Waiting for headers] [Waiting f\r                                                                               \rGet:2 https://cloud.r-project.org/bin/linux/ubuntu bionic-cran40/ InRelease [3,626 B]\n",
            "\r                                                                               \rIgn:3 https://developer.download.nvidia.com/compute/cuda/repos/ubuntu1804/x86_64  InRelease\n",
            "\r                                                                               \r0% [Waiting for headers] [Waiting for headers] [Waiting for headers]\r0% [1 InRelease gpgv 88.7 kB] [Waiting for headers] [Waiting for headers] [Wait\r                                                                               \rGet:4 http://ppa.launchpad.net/c2d4u.team/c2d4u4.0+/ubuntu bionic InRelease [15.9 kB]\n",
            "\r0% [1 InRelease gpgv 88.7 kB] [Waiting for headers] [4 InRelease 14.2 kB/15.9 k\r                                                                               \rHit:5 http://archive.ubuntu.com/ubuntu bionic InRelease\n",
            "\r0% [1 InRelease gpgv 88.7 kB] [Waiting for headers] [4 InRelease 14.2 kB/15.9 k\r                                                                               \rIgn:6 https://developer.download.nvidia.com/compute/machine-learning/repos/ubuntu1804/x86_64  InRelease\n",
            "\r0% [1 InRelease gpgv 88.7 kB] [Waiting for headers] [4 InRelease 14.2 kB/15.9 k\r                                                                               \rGet:7 https://developer.download.nvidia.com/compute/cuda/repos/ubuntu1804/x86_64  Release [697 B]\n",
            "\r0% [1 InRelease gpgv 88.7 kB] [Waiting for headers] [4 InRelease 14.2 kB/15.9 k\r                                                                               \rHit:8 https://developer.download.nvidia.com/compute/machine-learning/repos/ubuntu1804/x86_64  Release\n",
            "Get:9 https://developer.download.nvidia.com/compute/cuda/repos/ubuntu1804/x86_64  Release.gpg [836 B]\n",
            "Get:10 http://archive.ubuntu.com/ubuntu bionic-updates InRelease [88.7 kB]\n",
            "Hit:11 http://ppa.launchpad.net/graphics-drivers/ppa/ubuntu bionic InRelease\n",
            "Get:12 http://security.ubuntu.com/ubuntu bionic-security/universe amd64 Packages [1,353 kB]\n",
            "Get:13 http://archive.ubuntu.com/ubuntu bionic-backports InRelease [74.6 kB]\n",
            "Get:14 http://security.ubuntu.com/ubuntu bionic-security/main amd64 Packages [1,748 kB]\n",
            "Get:15 https://cloud.r-project.org/bin/linux/ubuntu bionic-cran40/ Packages [40.1 kB]\n",
            "Ign:17 https://developer.download.nvidia.com/compute/cuda/repos/ubuntu1804/x86_64  Packages\n",
            "Get:17 https://developer.download.nvidia.com/compute/cuda/repos/ubuntu1804/x86_64  Packages [405 kB]\n",
            "Get:18 http://ppa.launchpad.net/c2d4u.team/c2d4u4.0+/ubuntu bionic/main Sources [1,687 kB]\n",
            "Get:19 http://archive.ubuntu.com/ubuntu bionic-updates/main amd64 Packages [2,165 kB]\n",
            "Get:20 http://ppa.launchpad.net/c2d4u.team/c2d4u4.0+/ubuntu bionic/main amd64 Packages [863 kB]\n",
            "Get:21 http://archive.ubuntu.com/ubuntu bionic-updates/universe amd64 Packages [2,118 kB]\n",
            "Fetched 10.7 MB in 3s (3,149 kB/s)\n",
            "Reading package lists... Done\n"
          ],
          "name": "stdout"
        }
      ]
    },
    {
      "cell_type": "code",
      "metadata": {
        "id": "0C1Tqp-_Z2DB",
        "outputId": "bcede37b-dde4-4723-c193-d0ab7f640467",
        "colab": {
          "base_uri": "https://localhost:8080/"
        }
      },
      "source": [
        "!wget https://jdbc.postgresql.org/download/postgresql-42.2.9.jar"
      ],
      "execution_count": 2,
      "outputs": [
        {
          "output_type": "stream",
          "text": [
            "--2020-11-01 20:12:41--  https://jdbc.postgresql.org/download/postgresql-42.2.9.jar\n",
            "Resolving jdbc.postgresql.org (jdbc.postgresql.org)... 72.32.157.228, 2001:4800:3e1:1::228\n",
            "Connecting to jdbc.postgresql.org (jdbc.postgresql.org)|72.32.157.228|:443... connected.\n",
            "HTTP request sent, awaiting response... 200 OK\n",
            "Length: 914037 (893K) [application/java-archive]\n",
            "Saving to: ‘postgresql-42.2.9.jar’\n",
            "\n",
            "postgresql-42.2.9.j 100%[===================>] 892.61K  4.96MB/s    in 0.2s    \n",
            "\n",
            "2020-11-01 20:12:41 (4.96 MB/s) - ‘postgresql-42.2.9.jar’ saved [914037/914037]\n",
            "\n"
          ],
          "name": "stdout"
        }
      ]
    },
    {
      "cell_type": "code",
      "metadata": {
        "id": "QIhFCalFZ5s9"
      },
      "source": [
        "from pyspark.sql import SparkSession\n",
        "spark = SparkSession.builder.appName(\"CloudETL\").config(\"spark.driver.extraClassPath\",\"/content/postgresql-42.2.9.jar\").getOrCreate()"
      ],
      "execution_count": 3,
      "outputs": []
    },
    {
      "cell_type": "code",
      "metadata": {
        "id": "z7i2mqPvaXFU",
        "outputId": "9b40c1e8-83d9-4dbe-a1b1-426691cd9b85",
        "colab": {
          "base_uri": "https://localhost:8080/"
        }
      },
      "source": [
        "# Read in data from S3 Buckets\n",
        "from pyspark import SparkFiles\n",
        "url=\"https://classdb27oct2020.s3-us-west-1.amazonaws.com/amazon_reviews_us_Digital_Software_v1_00.tsv\"\n",
        "spark.sparkContext.addFile(url)\n",
        "digital_software_df = spark.read.csv(SparkFiles.get(\"amazon_reviews_us_Digital_Software_v1_00.tsv\"), \n",
        "                                        sep=\"\\t\", header=True, inferSchema=True)\n",
        "\n",
        "# Show DataFrame\n",
        "digital_software_df.show()"
      ],
      "execution_count": 4,
      "outputs": [
        {
          "output_type": "stream",
          "text": [
            "+-----------+-----------+--------------+----------+--------------+--------------------+----------------+-----------+-------------+-----------+----+-----------------+--------------------+--------------------+-------------------+\n",
            "|marketplace|customer_id|     review_id|product_id|product_parent|       product_title|product_category|star_rating|helpful_votes|total_votes|vine|verified_purchase|     review_headline|         review_body|        review_date|\n",
            "+-----------+-----------+--------------+----------+--------------+--------------------+----------------+-----------+-------------+-----------+----+-----------------+--------------------+--------------------+-------------------+\n",
            "|         US|   17747349|R2EI7QLPK4LF7U|B00U7LCE6A|     106182406|CCleaner Free [Do...|Digital_Software|          4|            0|          0|   N|                Y|          Four Stars|      So far so good|2015-08-31 00:00:00|\n",
            "|         US|   10956619|R1W5OMFK1Q3I3O|B00HRJMOM4|     162269768|ResumeMaker Profe...|Digital_Software|          3|            0|          0|   N|                Y|         Three Stars|Needs a little mo...|2015-08-31 00:00:00|\n",
            "|         US|   13132245| RPZWSYWRP92GI|B00P31G9PQ|     831433899|Amazon Drive Desk...|Digital_Software|          1|            1|          2|   N|                Y|            One Star|      Please cancel.|2015-08-31 00:00:00|\n",
            "|         US|   35717248|R2WQWM04XHD9US|B00FGDEPDY|     991059534|Norton Internet S...|Digital_Software|          5|            0|          0|   N|                Y|  Works as Expected!|  Works as Expected!|2015-08-31 00:00:00|\n",
            "|         US|   17710652|R1WSPK2RA2PDEF|B00FZ0FK0U|     574904556|SecureAnywhere In...|Digital_Software|          4|            1|          2|   N|                Y|Great antivirus. ...|I've had Webroot ...|2015-08-31 00:00:00|\n",
            "|         US|   42392705|R11JVGRZRHTDAS|B004KPKSRQ|     306022575|Pc Matic Performa...|Digital_Software|          5|            4|          4|   N|                N|Great choice in s...|EXCELLENT softwar...|2015-08-31 00:00:00|\n",
            "|         US|   52845868|R2B8468OKXXYE2|B00B1TFNTW|      54873662|Microsoft OneNote...|Digital_Software|          1|            1|          1|   N|                N|Munch, munch, mun...|The variations cr...|2015-08-31 00:00:00|\n",
            "|         US|   15696503|R2HGGCCZSSNUCB|B00M9GTJLY|     103182180|Intuit Quicken Re...|Digital_Software|          1|            0|          0|   N|                Y|Horrible! Would n...|Horrible!  Would ...|2015-08-31 00:00:00|\n",
            "|         US|    9723928| REEE4LHSVPRV9|B00H9A60O4|     608720080|Avast Free Antivi...|Digital_Software|          1|            0|          0|   N|                Y|            One Star|     Waste of time .|2015-08-31 00:00:00|\n",
            "|         US|   23522877|R25OMUUILFFHI9|B008XAXAC4|      87969525|Apache OpenOffice...|Digital_Software|          5|            0|          0|   N|                Y|Very good suite o...|Work as easy as o...|2015-08-31 00:00:00|\n",
            "|         US|   17022093|R2966PB8UBD5BM|B00MHZ6Z64|     249773946|     Norton Security|Digital_Software|          5|            0|          0|   N|                Y|          Five Stars|    Works perfectly!|2015-08-31 00:00:00|\n",
            "|         US|   11635690|R1OU91L2G5H6H1|B00OPCQ70Q|     956532818|Corel Painter Ess...|Digital_Software|          1|            0|          2|   N|                Y|            One Star|Will not open on ...|2015-08-31 00:00:00|\n",
            "|         US|   50349059|R3M6YQVMXWGTR6|B00MHZ71G2|       8655796|Norton Security w...|Digital_Software|          5|            0|          0|   N|                Y|Purchased this on...|Purchased this on...|2015-08-31 00:00:00|\n",
            "|         US|     450121|R2M8VZGO4BFN9J|B00O8J0W6G|       7338419|Movavi Screen Cap...|Digital_Software|          1|            0|          1|   N|                Y|            One Star|God awful and did...|2015-08-31 00:00:00|\n",
            "|         US|    2320642|R3UH0MJKIJ4VLP|B00NMPZCH6|     985055699|Photoshop Element...|Digital_Software|          3|            2|          3|   N|                Y|         Three Stars|I think its compl...|2015-08-31 00:00:00|\n",
            "|         US|   16089737|R3E906WYGZVKWO|B012P5SJNC|     490456974|LearnSmart for Th...|Digital_Software|          1|            2|          2|   N|                Y|Will not work for...|You can purchase ...|2015-08-31 00:00:00|\n",
            "|         US|   14082044|R1Z3N8UA5YQOV2|B00V9ZPIXY|      57097904|Fotor for Windows...|Digital_Software|          2|            0|          0|   N|                Y|           Two Stars|    it wont download|2015-08-31 00:00:00|\n",
            "|         US|   18246272|R2VH10XSOR1QHF|B00LU2XHAC|     962800663|Kaspersky Anti-Vi...|Digital_Software|          5|            0|          0|   N|                Y|          Five Stars|I have been using...|2015-08-31 00:00:00|\n",
            "|         US|   31837971|R1KCPJ8UASZESF|B0068TJOSQ|     154476766|H&R Block At Home...|Digital_Software|          5|            0|          0|   N|                Y|This was a Great ...|This was a Great ...|2015-08-31 00:00:00|\n",
            "|         US|   12631500| RWTF87EKV4DYO|B00SGYWM80|     780881648| onlineTV [Download]|Digital_Software|          3|            0|          0|   N|                Y|         Three Stars|did not use,inter...|2015-08-31 00:00:00|\n",
            "+-----------+-----------+--------------+----------+--------------+--------------------+----------------+-----------+-------------+-----------+----+-----------------+--------------------+--------------------+-------------------+\n",
            "only showing top 20 rows\n",
            "\n"
          ],
          "name": "stdout"
        }
      ]
    },
    {
      "cell_type": "code",
      "metadata": {
        "id": "8cVm4hgmbC6S",
        "outputId": "21efd8de-e9d3-4c82-9c8a-fbc8147b9907",
        "colab": {
          "base_uri": "https://localhost:8080/"
        }
      },
      "source": [
        "print(f\"Original count: {digital_software_df.count()}\")"
      ],
      "execution_count": 5,
      "outputs": [
        {
          "output_type": "stream",
          "text": [
            "Original count: 102084\n"
          ],
          "name": "stdout"
        }
      ]
    },
    {
      "cell_type": "code",
      "metadata": {
        "id": "z8JuT6lzbF97",
        "outputId": "62d9e482-cd81-4268-dd5b-0bba150ef062",
        "colab": {
          "base_uri": "https://localhost:8080/"
        }
      },
      "source": [
        "# Print schema\n",
        "digital_software_df.printSchema()"
      ],
      "execution_count": 6,
      "outputs": [
        {
          "output_type": "stream",
          "text": [
            "root\n",
            " |-- marketplace: string (nullable = true)\n",
            " |-- customer_id: integer (nullable = true)\n",
            " |-- review_id: string (nullable = true)\n",
            " |-- product_id: string (nullable = true)\n",
            " |-- product_parent: integer (nullable = true)\n",
            " |-- product_title: string (nullable = true)\n",
            " |-- product_category: string (nullable = true)\n",
            " |-- star_rating: integer (nullable = true)\n",
            " |-- helpful_votes: integer (nullable = true)\n",
            " |-- total_votes: integer (nullable = true)\n",
            " |-- vine: string (nullable = true)\n",
            " |-- verified_purchase: string (nullable = true)\n",
            " |-- review_headline: string (nullable = true)\n",
            " |-- review_body: string (nullable = true)\n",
            " |-- review_date: timestamp (nullable = true)\n",
            "\n"
          ],
          "name": "stdout"
        }
      ]
    },
    {
      "cell_type": "code",
      "metadata": {
        "id": "2InljbA6bIK6",
        "outputId": "515ac9e2-eb0b-4207-bf3a-23123c010136",
        "colab": {
          "base_uri": "https://localhost:8080/"
        }
      },
      "source": [
        "from pyspark.sql.functions import to_date\n",
        "# Review DataFrame\n",
        "review_id_df = digital_software_df.select([\"review_id\", \"customer_id\", \"product_id\", \"product_parent\", \n",
        "                                              to_date(\"review_date\", 'yyyy-MM-dd').alias(\"review_date\")])\n",
        "review_id_df.show()"
      ],
      "execution_count": 7,
      "outputs": [
        {
          "output_type": "stream",
          "text": [
            "+--------------+-----------+----------+--------------+-----------+\n",
            "|     review_id|customer_id|product_id|product_parent|review_date|\n",
            "+--------------+-----------+----------+--------------+-----------+\n",
            "|R2EI7QLPK4LF7U|   17747349|B00U7LCE6A|     106182406| 2015-08-31|\n",
            "|R1W5OMFK1Q3I3O|   10956619|B00HRJMOM4|     162269768| 2015-08-31|\n",
            "| RPZWSYWRP92GI|   13132245|B00P31G9PQ|     831433899| 2015-08-31|\n",
            "|R2WQWM04XHD9US|   35717248|B00FGDEPDY|     991059534| 2015-08-31|\n",
            "|R1WSPK2RA2PDEF|   17710652|B00FZ0FK0U|     574904556| 2015-08-31|\n",
            "|R11JVGRZRHTDAS|   42392705|B004KPKSRQ|     306022575| 2015-08-31|\n",
            "|R2B8468OKXXYE2|   52845868|B00B1TFNTW|      54873662| 2015-08-31|\n",
            "|R2HGGCCZSSNUCB|   15696503|B00M9GTJLY|     103182180| 2015-08-31|\n",
            "| REEE4LHSVPRV9|    9723928|B00H9A60O4|     608720080| 2015-08-31|\n",
            "|R25OMUUILFFHI9|   23522877|B008XAXAC4|      87969525| 2015-08-31|\n",
            "|R2966PB8UBD5BM|   17022093|B00MHZ6Z64|     249773946| 2015-08-31|\n",
            "|R1OU91L2G5H6H1|   11635690|B00OPCQ70Q|     956532818| 2015-08-31|\n",
            "|R3M6YQVMXWGTR6|   50349059|B00MHZ71G2|       8655796| 2015-08-31|\n",
            "|R2M8VZGO4BFN9J|     450121|B00O8J0W6G|       7338419| 2015-08-31|\n",
            "|R3UH0MJKIJ4VLP|    2320642|B00NMPZCH6|     985055699| 2015-08-31|\n",
            "|R3E906WYGZVKWO|   16089737|B012P5SJNC|     490456974| 2015-08-31|\n",
            "|R1Z3N8UA5YQOV2|   14082044|B00V9ZPIXY|      57097904| 2015-08-31|\n",
            "|R2VH10XSOR1QHF|   18246272|B00LU2XHAC|     962800663| 2015-08-31|\n",
            "|R1KCPJ8UASZESF|   31837971|B0068TJOSQ|     154476766| 2015-08-31|\n",
            "| RWTF87EKV4DYO|   12631500|B00SGYWM80|     780881648| 2015-08-31|\n",
            "+--------------+-----------+----------+--------------+-----------+\n",
            "only showing top 20 rows\n",
            "\n"
          ],
          "name": "stdout"
        }
      ]
    },
    {
      "cell_type": "code",
      "metadata": {
        "id": "basQcgbsbKrZ"
      },
      "source": [
        "products_df = digital_software_df.select([\"product_id\", \"product_title\"]).drop_duplicates()"
      ],
      "execution_count": 8,
      "outputs": []
    },
    {
      "cell_type": "code",
      "metadata": {
        "id": "Bky0EiJ5bNpF",
        "outputId": "f4fb22b2-e918-4ade-9095-1fbbe8cf1dbc",
        "colab": {
          "base_uri": "https://localhost:8080/"
        }
      },
      "source": [
        "reviews_df = digital_software_df.select([\"review_id\", \"review_headline\", \"review_body\"])\n",
        "reviews_df.show()"
      ],
      "execution_count": 9,
      "outputs": [
        {
          "output_type": "stream",
          "text": [
            "+--------------+--------------------+--------------------+\n",
            "|     review_id|     review_headline|         review_body|\n",
            "+--------------+--------------------+--------------------+\n",
            "|R2EI7QLPK4LF7U|          Four Stars|      So far so good|\n",
            "|R1W5OMFK1Q3I3O|         Three Stars|Needs a little mo...|\n",
            "| RPZWSYWRP92GI|            One Star|      Please cancel.|\n",
            "|R2WQWM04XHD9US|  Works as Expected!|  Works as Expected!|\n",
            "|R1WSPK2RA2PDEF|Great antivirus. ...|I've had Webroot ...|\n",
            "|R11JVGRZRHTDAS|Great choice in s...|EXCELLENT softwar...|\n",
            "|R2B8468OKXXYE2|Munch, munch, mun...|The variations cr...|\n",
            "|R2HGGCCZSSNUCB|Horrible! Would n...|Horrible!  Would ...|\n",
            "| REEE4LHSVPRV9|            One Star|     Waste of time .|\n",
            "|R25OMUUILFFHI9|Very good suite o...|Work as easy as o...|\n",
            "|R2966PB8UBD5BM|          Five Stars|    Works perfectly!|\n",
            "|R1OU91L2G5H6H1|            One Star|Will not open on ...|\n",
            "|R3M6YQVMXWGTR6|Purchased this on...|Purchased this on...|\n",
            "|R2M8VZGO4BFN9J|            One Star|God awful and did...|\n",
            "|R3UH0MJKIJ4VLP|         Three Stars|I think its compl...|\n",
            "|R3E906WYGZVKWO|Will not work for...|You can purchase ...|\n",
            "|R1Z3N8UA5YQOV2|           Two Stars|    it wont download|\n",
            "|R2VH10XSOR1QHF|          Five Stars|I have been using...|\n",
            "|R1KCPJ8UASZESF|This was a Great ...|This was a Great ...|\n",
            "| RWTF87EKV4DYO|         Three Stars|did not use,inter...|\n",
            "+--------------+--------------------+--------------------+\n",
            "only showing top 20 rows\n",
            "\n"
          ],
          "name": "stdout"
        }
      ]
    },
    {
      "cell_type": "code",
      "metadata": {
        "id": "uJkLpaJ5bQR0",
        "outputId": "6ba19be3-3d09-4819-e47e-8dfb12da1f1b",
        "colab": {
          "base_uri": "https://localhost:8080/"
        }
      },
      "source": [
        "customers_df = digital_software_df.groupby(\"customer_id\").agg({\"customer_id\": \"count\"}).withColumnRenamed(\"count(customer_id)\", \"customer_count\")\n",
        "customers_df.show()"
      ],
      "execution_count": 10,
      "outputs": [
        {
          "output_type": "stream",
          "text": [
            "+-----------+--------------+\n",
            "|customer_id|customer_count|\n",
            "+-----------+--------------+\n",
            "|   46639223|             1|\n",
            "|   50407297|             1|\n",
            "|   52707015|             1|\n",
            "|   21817779|             1|\n",
            "|     178254|             1|\n",
            "|    1442229|             1|\n",
            "|   12811624|             1|\n",
            "|   40840841|             1|\n",
            "|   48319420|             1|\n",
            "|   16205135|             1|\n",
            "|   12115907|             1|\n",
            "|   30190304|             1|\n",
            "|   43013424|             1|\n",
            "|   51495952|             1|\n",
            "|   16558777|             1|\n",
            "|   53013109|             2|\n",
            "|   50065664|             1|\n",
            "|    3534576|             1|\n",
            "|   36456998|             1|\n",
            "|   31609314|             1|\n",
            "+-----------+--------------+\n",
            "only showing top 20 rows\n",
            "\n"
          ],
          "name": "stdout"
        }
      ]
    },
    {
      "cell_type": "code",
      "metadata": {
        "id": "qjN8Gc1rbTZA",
        "outputId": "d095ea65-67fb-45c4-d5ca-639eeba558e0",
        "colab": {
          "base_uri": "https://localhost:8080/"
        }
      },
      "source": [
        "vine_df = digital_software_df.select([\"review_id\", \"star_rating\", \"helpful_votes\", \"total_votes\", \"vine\"])\n",
        "vine_df.show()"
      ],
      "execution_count": 11,
      "outputs": [
        {
          "output_type": "stream",
          "text": [
            "+--------------+-----------+-------------+-----------+----+\n",
            "|     review_id|star_rating|helpful_votes|total_votes|vine|\n",
            "+--------------+-----------+-------------+-----------+----+\n",
            "|R2EI7QLPK4LF7U|          4|            0|          0|   N|\n",
            "|R1W5OMFK1Q3I3O|          3|            0|          0|   N|\n",
            "| RPZWSYWRP92GI|          1|            1|          2|   N|\n",
            "|R2WQWM04XHD9US|          5|            0|          0|   N|\n",
            "|R1WSPK2RA2PDEF|          4|            1|          2|   N|\n",
            "|R11JVGRZRHTDAS|          5|            4|          4|   N|\n",
            "|R2B8468OKXXYE2|          1|            1|          1|   N|\n",
            "|R2HGGCCZSSNUCB|          1|            0|          0|   N|\n",
            "| REEE4LHSVPRV9|          1|            0|          0|   N|\n",
            "|R25OMUUILFFHI9|          5|            0|          0|   N|\n",
            "|R2966PB8UBD5BM|          5|            0|          0|   N|\n",
            "|R1OU91L2G5H6H1|          1|            0|          2|   N|\n",
            "|R3M6YQVMXWGTR6|          5|            0|          0|   N|\n",
            "|R2M8VZGO4BFN9J|          1|            0|          1|   N|\n",
            "|R3UH0MJKIJ4VLP|          3|            2|          3|   N|\n",
            "|R3E906WYGZVKWO|          1|            2|          2|   N|\n",
            "|R1Z3N8UA5YQOV2|          2|            0|          0|   N|\n",
            "|R2VH10XSOR1QHF|          5|            0|          0|   N|\n",
            "|R1KCPJ8UASZESF|          5|            0|          0|   N|\n",
            "| RWTF87EKV4DYO|          3|            0|          0|   N|\n",
            "+--------------+-----------+-------------+-----------+----+\n",
            "only showing top 20 rows\n",
            "\n"
          ],
          "name": "stdout"
        }
      ]
    },
    {
      "cell_type": "code",
      "metadata": {
        "id": "I9pCuEWmbWKQ"
      },
      "source": [
        "mode = \"append\"\n",
        "jdbc_url=\"jdbc:postgresql://mypostgresdb.ct26r4oxbudr.us-west-1.rds.amazonaws.com:5432/assignment_big_data\"\n",
        "config = {\"user\":\"root\", \"password\": \"12345678\", \"driver\":\"org.postgresql.Driver\"}"
      ],
      "execution_count": 12,
      "outputs": []
    },
    {
      "cell_type": "code",
      "metadata": {
        "id": "ht-AfX4LbZh4"
      },
      "source": [
        "review_id_df.write.jdbc(url=jdbc_url, table='software_review', mode=mode, properties=config)"
      ],
      "execution_count": 13,
      "outputs": []
    },
    {
      "cell_type": "code",
      "metadata": {
        "id": "yxaAh_05bcA0"
      },
      "source": [
        "products_df.write.jdbc(url=jdbc_url, table='software_products', mode=mode, properties=config)"
      ],
      "execution_count": 14,
      "outputs": []
    },
    {
      "cell_type": "code",
      "metadata": {
        "id": "O75ZEqG0bfLI"
      },
      "source": [
        "customers_df.write.jdbc(url=jdbc_url, table='software_customers', mode=mode, properties=config)"
      ],
      "execution_count": 15,
      "outputs": []
    },
    {
      "cell_type": "code",
      "metadata": {
        "id": "QIoivgJEbgFJ"
      },
      "source": [
        "vine_df.write.jdbc(url=jdbc_url, table='software_vines', mode=mode, properties=config)"
      ],
      "execution_count": 16,
      "outputs": []
    }
  ]
}